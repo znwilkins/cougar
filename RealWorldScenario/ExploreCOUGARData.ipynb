{
  "nbformat": 4,
  "nbformat_minor": 0,
  "metadata": {
    "colab": {
      "name": "ExploreCOUGARData.ipynb",
      "provenance": []
    },
    "kernelspec": {
      "name": "python3",
      "display_name": "Python 3"
    }
  },
  "cells": [
    {
      "cell_type": "code",
      "metadata": {
        "id": "HnHo7sl8ouyF",
        "colab_type": "code",
        "colab": {}
      },
      "source": [
        "import pandas as pd\n",
        "import matplotlib.pyplot as plt\n",
        "import matplotlib\n",
        "matplotlib.rcParams['pdf.fonttype'] = 42\n",
        "matplotlib.rcParams['ps.fonttype'] = 42"
      ],
      "execution_count": 0,
      "outputs": []
    },
    {
      "cell_type": "code",
      "metadata": {
        "id": "nSl-W_ILpCtR",
        "colab_type": "code",
        "colab": {}
      },
      "source": [
        "df = pd.read_csv('/content/cluster_points_labeled_holdout-1_STR.csv')"
      ],
      "execution_count": 0,
      "outputs": []
    },
    {
      "cell_type": "code",
      "metadata": {
        "id": "PdsinsJCpOYi",
        "colab_type": "code",
        "colab": {
          "base_uri": "https://localhost:8080/",
          "height": 90
        },
        "outputId": "604bdc68-dee4-4892-d9ec-07f3a73f9123"
      },
      "source": [
        "df[df.is_holdout == 1].avclass_predicted.value_counts()[:3]"
      ],
      "execution_count": 52,
      "outputs": [
        {
          "output_type": "execute_result",
          "data": {
            "text/plain": [
              "installmonster    61\n",
              "high              20\n",
              "wannacry          13\n",
              "Name: avclass_predicted, dtype: int64"
            ]
          },
          "metadata": {
            "tags": []
          },
          "execution_count": 52
        }
      ]
    },
    {
      "cell_type": "code",
      "metadata": {
        "id": "_v1-Cqakp8Zp",
        "colab_type": "code",
        "colab": {}
      },
      "source": [
        "wc_df = df[df.avclass_predicted == 'wannacry']\n",
        "wc_train_df = wc_df[wc_df.is_holdout == 0]\n",
        "wc_test_df = wc_df[wc_df.is_holdout == 1]\n",
        "non_wc_df = df[df.avclass_predicted != 'wannacry']"
      ],
      "execution_count": 0,
      "outputs": []
    },
    {
      "cell_type": "code",
      "metadata": {
        "id": "gbneLkEprS6V",
        "colab_type": "code",
        "colab": {
          "base_uri": "https://localhost:8080/",
          "height": 297
        },
        "outputId": "3741e400-3baa-4cd0-c3c4-2ed4835a1aa0"
      },
      "source": [
        "plt.grid(True)\n",
        "plt.scatter(non_wc_df.x, non_wc_df.y, c='grey', label='Other samples')\n",
        "plt.scatter(wc_train_df.x, wc_train_df.y, c='blue', marker='^', label='Observed WannaCry samples')\n",
        "plt.scatter(wc_test_df.x, wc_test_df.y, c='red', marker='X', label='Suspected WannaCry samples')\n",
        "plt.xlabel('X')\n",
        "plt.ylabel('Y')\n",
        "plt.legend(loc='best')\n",
        "plt.tight_layout()\n",
        "plt.savefig('/content/wannacry_overview.pdf')\n",
        "plt.show()"
      ],
      "execution_count": 60,
      "outputs": [
        {
          "output_type": "display_data",
          "data": {
            "image/png": "[encoded data removed]",
            "text/plain": [
              "<Figure size 432x288 with 1 Axes>"
            ]
          },
          "metadata": {
            "tags": []
          }
        }
      ]
    },
    {
      "cell_type": "code",
      "metadata": {
        "id": "1zxVwQBYr198",
        "colab_type": "code",
        "colab": {
          "base_uri": "https://localhost:8080/",
          "height": 297
        },
        "outputId": "668658e2-08e1-40c4-ad6d-3c6e83be04dc"
      },
      "source": [
        "plt.grid(True)\n",
        "plt.scatter(non_wc_df.x, non_wc_df.y, c='grey', label='Other samples')\n",
        "plt.scatter(wc_train_df.x, wc_train_df.y, c='blue', marker='^', label='Observed WannaCry samples')\n",
        "plt.scatter(wc_test_df.x, wc_test_df.y, c='red', marker='X', label='Suspected WannaCry samples')\n",
        "plt.axis([-138.8, -138.2, -3.8, -3.4])\n",
        "plt.xlabel('X')\n",
        "plt.ylabel('Y')\n",
        "plt.legend(loc='best')\n",
        "plt.tight_layout()\n",
        "plt.savefig('/content/wannacry_zoomed.pdf')\n",
        "plt.show()"
      ],
      "execution_count": 59,
      "outputs": [
        {
          "output_type": "display_data",
          "data": {
            "image/png": "[encoded data removed]",
            "text/plain": [
              "<Figure size 432x288 with 1 Axes>"
            ]
          },
          "metadata": {
            "tags": []
          }
        }
      ]
    },
    {
      "cell_type": "code",
      "metadata": {
        "id": "tkblqpg1uOL1",
        "colab_type": "code",
        "colab": {
          "base_uri": "https://localhost:8080/",
          "height": 72
        },
        "outputId": "0eb9b789-69e1-4ead-aa02-3df23310215c"
      },
      "source": [
        "(wc_test_df.avclass_predicted == wc_test_df.avclass).value_counts()"
      ],
      "execution_count": 43,
      "outputs": [
        {
          "output_type": "execute_result",
          "data": {
            "text/plain": [
              "True     12\n",
              "False     1\n",
              "dtype: int64"
            ]
          },
          "metadata": {
            "tags": []
          },
          "execution_count": 43
        }
      ]
    },
    {
      "cell_type": "code",
      "metadata": {
        "id": "auU2ACoZxlQa",
        "colab_type": "code",
        "colab": {
          "base_uri": "https://localhost:8080/",
          "height": 457
        },
        "outputId": "c8698652-f3d1-4c5d-91d8-e399eb132e0a"
      },
      "source": [
        "wc_test_df"
      ],
      "execution_count": 62,
      "outputs": [
        {
          "output_type": "execute_result",
          "data": {
            "text/html": [
              "<div>\n",
              "<style scoped>\n",
              "    .dataframe tbody tr th:only-of-type {\n",
              "        vertical-align: middle;\n",
              "    }\n",
              "\n",
              "    .dataframe tbody tr th {\n",
              "        vertical-align: top;\n",
              "    }\n",
              "\n",
              "    .dataframe thead th {\n",
              "        text-align: right;\n",
              "    }\n",
              "</style>\n",
              "<table border=\"1\" class=\"dataframe\">\n",
              "  <thead>\n",
              "    <tr style=\"text-align: right;\">\n",
              "      <th></th>\n",
              "      <th>md5</th>\n",
              "      <th>x</th>\n",
              "      <th>y</th>\n",
              "      <th>label</th>\n",
              "      <th>is_holdout</th>\n",
              "      <th>avclass_predicted</th>\n",
              "      <th>avclass</th>\n",
              "    </tr>\n",
              "  </thead>\n",
              "  <tbody>\n",
              "    <tr>\n",
              "      <th>977</th>\n",
              "      <td>ce99092152183272942b5235e41feedd</td>\n",
              "      <td>-138.540451</td>\n",
              "      <td>-3.626701</td>\n",
              "      <td>1114</td>\n",
              "      <td>1</td>\n",
              "      <td>wannacry</td>\n",
              "      <td>wannacry</td>\n",
              "    </tr>\n",
              "    <tr>\n",
              "      <th>978</th>\n",
              "      <td>76633b393300a1463d8e77c0a4a23080</td>\n",
              "      <td>-138.551376</td>\n",
              "      <td>-3.633952</td>\n",
              "      <td>1114</td>\n",
              "      <td>1</td>\n",
              "      <td>wannacry</td>\n",
              "      <td>wannacry</td>\n",
              "    </tr>\n",
              "    <tr>\n",
              "      <th>980</th>\n",
              "      <td>c800a1b01c8571c9654d264ffa1a4e35</td>\n",
              "      <td>-138.579803</td>\n",
              "      <td>-3.669796</td>\n",
              "      <td>1114</td>\n",
              "      <td>1</td>\n",
              "      <td>wannacry</td>\n",
              "      <td>wannacry</td>\n",
              "    </tr>\n",
              "    <tr>\n",
              "      <th>1065</th>\n",
              "      <td>10e9ac02e636483ee47fc9e8627836da</td>\n",
              "      <td>-138.518509</td>\n",
              "      <td>-3.594715</td>\n",
              "      <td>1114</td>\n",
              "      <td>1</td>\n",
              "      <td>wannacry</td>\n",
              "      <td>wannacry</td>\n",
              "    </tr>\n",
              "    <tr>\n",
              "      <th>1074</th>\n",
              "      <td>d0c40bf1a7ed5a417df63742acc1332c</td>\n",
              "      <td>-138.526672</td>\n",
              "      <td>-3.610726</td>\n",
              "      <td>1114</td>\n",
              "      <td>1</td>\n",
              "      <td>wannacry</td>\n",
              "      <td>silentinstall</td>\n",
              "    </tr>\n",
              "    <tr>\n",
              "      <th>1076</th>\n",
              "      <td>fe086079c8724b7c3bba62d4991f4b57</td>\n",
              "      <td>-138.558762</td>\n",
              "      <td>-3.651685</td>\n",
              "      <td>1114</td>\n",
              "      <td>1</td>\n",
              "      <td>wannacry</td>\n",
              "      <td>wannacry</td>\n",
              "    </tr>\n",
              "    <tr>\n",
              "      <th>1084</th>\n",
              "      <td>883b492ab08a32bf3a8033db78aec3a7</td>\n",
              "      <td>-138.542114</td>\n",
              "      <td>-3.630911</td>\n",
              "      <td>1114</td>\n",
              "      <td>1</td>\n",
              "      <td>wannacry</td>\n",
              "      <td>wannacry</td>\n",
              "    </tr>\n",
              "    <tr>\n",
              "      <th>1091</th>\n",
              "      <td>510f60811ad6d8e5d2adffb8c25db020</td>\n",
              "      <td>-138.530792</td>\n",
              "      <td>-3.619523</td>\n",
              "      <td>1114</td>\n",
              "      <td>1</td>\n",
              "      <td>wannacry</td>\n",
              "      <td>wannacry</td>\n",
              "    </tr>\n",
              "    <tr>\n",
              "      <th>1095</th>\n",
              "      <td>c01d2d93a63726010895854879302c02</td>\n",
              "      <td>-138.519882</td>\n",
              "      <td>-3.613496</td>\n",
              "      <td>1114</td>\n",
              "      <td>1</td>\n",
              "      <td>wannacry</td>\n",
              "      <td>wannacry</td>\n",
              "    </tr>\n",
              "    <tr>\n",
              "      <th>1123</th>\n",
              "      <td>c2c38ae3efc4ba1aa418e8aba77d5b0d</td>\n",
              "      <td>-138.524612</td>\n",
              "      <td>-3.608615</td>\n",
              "      <td>1114</td>\n",
              "      <td>1</td>\n",
              "      <td>wannacry</td>\n",
              "      <td>wannacry</td>\n",
              "    </tr>\n",
              "    <tr>\n",
              "      <th>1127</th>\n",
              "      <td>dbd31d4dcbd5815d0e1ca04d384fc182</td>\n",
              "      <td>-138.501404</td>\n",
              "      <td>-3.596427</td>\n",
              "      <td>1114</td>\n",
              "      <td>1</td>\n",
              "      <td>wannacry</td>\n",
              "      <td>wannacry</td>\n",
              "    </tr>\n",
              "    <tr>\n",
              "      <th>1135</th>\n",
              "      <td>c32ae82bde27cb1761f4f01011bac40f</td>\n",
              "      <td>-138.561905</td>\n",
              "      <td>-3.646751</td>\n",
              "      <td>1114</td>\n",
              "      <td>1</td>\n",
              "      <td>wannacry</td>\n",
              "      <td>wannacry</td>\n",
              "    </tr>\n",
              "    <tr>\n",
              "      <th>1143</th>\n",
              "      <td>9e0d358e00cd222c29b45bbb4ecc8e23</td>\n",
              "      <td>-138.662842</td>\n",
              "      <td>-3.747382</td>\n",
              "      <td>1114</td>\n",
              "      <td>1</td>\n",
              "      <td>wannacry</td>\n",
              "      <td>wannacry</td>\n",
              "    </tr>\n",
              "  </tbody>\n",
              "</table>\n",
              "</div>"
            ],
            "text/plain": [
              "                                   md5  ...        avclass\n",
              "977   ce99092152183272942b5235e41feedd  ...       wannacry\n",
              "978   76633b393300a1463d8e77c0a4a23080  ...       wannacry\n",
              "980   c800a1b01c8571c9654d264ffa1a4e35  ...       wannacry\n",
              "1065  10e9ac02e636483ee47fc9e8627836da  ...       wannacry\n",
              "1074  d0c40bf1a7ed5a417df63742acc1332c  ...  silentinstall\n",
              "1076  fe086079c8724b7c3bba62d4991f4b57  ...       wannacry\n",
              "1084  883b492ab08a32bf3a8033db78aec3a7  ...       wannacry\n",
              "1091  510f60811ad6d8e5d2adffb8c25db020  ...       wannacry\n",
              "1095  c01d2d93a63726010895854879302c02  ...       wannacry\n",
              "1123  c2c38ae3efc4ba1aa418e8aba77d5b0d  ...       wannacry\n",
              "1127  dbd31d4dcbd5815d0e1ca04d384fc182  ...       wannacry\n",
              "1135  c32ae82bde27cb1761f4f01011bac40f  ...       wannacry\n",
              "1143  9e0d358e00cd222c29b45bbb4ecc8e23  ...       wannacry\n",
              "\n",
              "[13 rows x 7 columns]"
            ]
          },
          "metadata": {
            "tags": []
          },
          "execution_count": 62
        }
      ]
    },
    {
      "cell_type": "code",
      "metadata": {
        "id": "cMhZMCMc-2ae",
        "colab_type": "code",
        "colab": {}
      },
      "source": [
        ""
      ],
      "execution_count": 0,
      "outputs": []
    }
  ]
}